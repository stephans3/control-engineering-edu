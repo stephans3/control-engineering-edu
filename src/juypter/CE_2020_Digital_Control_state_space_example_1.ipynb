{
 "cells": [
  {
   "cell_type": "markdown",
   "metadata": {},
   "source": [
    "# Example: Digital Control in the State-Space\n",
    "\n",
    "A system in state-space representation\n",
    "\n",
    "$$\n",
    "    \\dot{x}(t) = A x(t) + B u(t) \\quad \\text{with} \\quad x(t_{0}) = x_{0}\n",
    "$$\n",
    "\n",
    "is solved via integration in time as\n",
    "\n",
    "$$\n",
    "    x(t) = \\exp \\left( A(t - t_{0}) \\right) x(t_{0}) + \\int\\limits_{t_{0}}^{t} \\exp \\left( A(t - \\tau) \\right) B ~ u(\\tau) d\\tau \\text{.}\n",
    "$$\n",
    "\n",
    "This solution in time is used to derive the discrete state-space representation. If the $x(t)$ is solved iteratively only in the time interval $ t \\in \\left\\{ t_{0} + i~\\Delta T  , t_{0} + (i+1)~\\Delta T \\right\\} $ for an increasing $ i \\in \\left\\{ 0, 1, 2, \\cdots, N-1 \\right\\} $ than the solution is found from $ t_{0} $ until $ t_{final} = N ~ \\Delta T $. This incremental solution is expressed by the difference equation \n",
    "\n",
    "$$\n",
    "    x(t_{n+1}) = \\exp \\left( A \\Delta T \\right) x(t_{n}) + \\int\\limits_{t_{n}}^{t_{n+1}} \\exp \\left( A(t_{n+1} - \\tau) \\right) ~ B ~ d\\tau ~ u(t_{n}) \n",
    "    = A_{d} x(t_{n}) + B_{d} u(t_{n})\n",
    "$$\n",
    "with $ \\Delta T = t_{n+1} - t_{n}$. The linear time-invariant system \n",
    "\n",
    "$$\n",
    "    \\begin{pmatrix}\n",
    "    \\dot{x}_{1}(t) \\\\\n",
    "    \\dot{x}_{2}(t) \n",
    "    \\end{pmatrix}\n",
    "    =\n",
    "    \\begin{pmatrix}\n",
    "    -0.5 & 0 \\\\\n",
    "    1 & 1 \n",
    "    \\end{pmatrix}\n",
    "    ~\n",
    "    \\begin{pmatrix}\n",
    "    x_{1}(t) \\\\\n",
    "    x_{2}(t) \n",
    "    \\end{pmatrix}\n",
    "    +\n",
    "    \\begin{pmatrix}\n",
    "    0.5 \\\\\n",
    "    0.5 \n",
    "    \\end{pmatrix}\n",
    "    ~\n",
    "    u(t)\n",
    "$$\n",
    "\n",
    "is transformed to a [time-discrete dynamical system](https://en.wikipedia.org/wiki/Discretization) and a digital controller is designed to stabilize it.\n",
    "\n",
    "## Stability of the continuous system\n",
    "\n",
    "The stability is proved with position of the Eigenvalues which are calculated with\n",
    "\n",
    "$$\n",
    "\\det \\left(A - \\lambda I\\right) =\n",
    "\\det\n",
    "\\begin{pmatrix}\n",
    "-0.5 - \\lambda & 0 \\\\\n",
    "1 & 1 - \\lambda\n",
    "\\end{pmatrix} \n",
    "= \\left(\\lambda + \\frac{1}{2} \\right) \\left(\\lambda - 1 \\right) = 0 \n",
    "$$\n",
    "\n",
    "and finally one holds $\\lambda_{1} = -0.5$ and $\\lambda_{2} = 1.0$ . The second Eigenvalue unveils an **unstable** dynamic behaviour."
   ]
  },
  {
   "cell_type": "code",
   "execution_count": 1,
   "metadata": {},
   "outputs": [
    {
     "data": {
      "text/plain": [
       "2-element Array{Float64,1}:\n",
       " -0.5\n",
       "  1.0"
      ]
     },
     "execution_count": 1,
     "metadata": {},
     "output_type": "execute_result"
    }
   ],
   "source": [
    "using LinearAlgebra\n",
    "\n",
    "A = [-0.5 0; 1 1] # Continuous time System matrix\n",
    "B = [0.5 ; 0.5]   # Continuous time Input vector\n",
    "\n",
    "evals = eigvals(A) # Eigenvalues"
   ]
  },
  {
   "cell_type": "markdown",
   "metadata": {},
   "source": [
    "## Transformation to discrete system (Zero-Order Hold)\n",
    "\n",
    "The discrete system is found with zero-order hold. Firstly, the associated (right) Eigenvectors are calculated with \n",
    "\n",
    "$$\n",
    "\\left(A - \\lambda_{i} I\\right) v = \n",
    "\\begin{pmatrix}\n",
    "-0.5 - \\lambda_{i} & 0 \\\\\n",
    "1 & 1 - \\lambda_{i}\n",
    "\\end{pmatrix} \n",
    "\\begin{pmatrix}\n",
    "v_{i,1} \\\\\n",
    "v_{i,2}\n",
    "\\end{pmatrix} \n",
    "=\n",
    "\\begin{pmatrix}\n",
    "0 \\\\\n",
    "0\n",
    "\\end{pmatrix} \n",
    "$$\n",
    "\n",
    "for $\\lambda_{1}$ and $\\lambda_{2}$ and thus, one yields \n",
    "$$\n",
    "v_{1} = \n",
    "\\begin{pmatrix}\n",
    "-1.5  \\\\\n",
    "1\n",
    "\\end{pmatrix} \n",
    "\\quad \\text{and} \\quad\n",
    "v_{2} = \n",
    "\\begin{pmatrix}\n",
    "0 \\\\\n",
    "1\n",
    "\\end{pmatrix}\n",
    "\\text{.}\n",
    "$$\n"
   ]
  },
  {
   "cell_type": "code",
   "execution_count": 2,
   "metadata": {},
   "outputs": [
    {
     "data": {
      "text/plain": [
       "2×2 Array{Float64,2}:\n",
       "  0.83205  0.0\n",
       " -0.5547   1.0"
      ]
     },
     "execution_count": 2,
     "metadata": {},
     "output_type": "execute_result"
    }
   ],
   "source": [
    "evecs = eigvecs(A) # Normalized Eigenvectors"
   ]
  },
  {
   "cell_type": "markdown",
   "metadata": {},
   "source": [
    "The Eigenvalues are elements of matrix\n",
    "\n",
    "$$\n",
    "\\tilde{A} = \n",
    "\\begin{pmatrix}\n",
    "    \\lambda_{1} & 0 \\\\\n",
    "    0 & \\lambda_{2} \n",
    "\\end{pmatrix}\n",
    "$$\n",
    "\n",
    "and the Eigenvectors are summarized as matrix\n",
    "\n",
    "$$ \n",
    "V = [v_{1} v_{2}] = \n",
    "\\begin{pmatrix}\n",
    "   -1.5 & 0 \\\\\n",
    "    1.0 & 1\n",
    "\\end{pmatrix}\n",
    "$$ \n",
    "\n",
    "to determine \n",
    "\n",
    "$$\n",
    "    \\exp \\left( A t \\right) = V ~ \\exp( \\tilde{A} t ) ~ V^{-1} =\n",
    "    \\begin{pmatrix}\n",
    "           \\exp\\left(-t/2\\right) & 0 \\\\\n",
    "            -\\frac{2}{3} \\left( \\exp\\left(-t/2\\right)- \\exp\\left(t\\right) \\right) & \\exp\\left(t\\right)\n",
    "    \\end{pmatrix}\n",
    "    \\text{.}\n",
    "$$\n",
    "\n",
    "The **sampling time** is assumed as $ \\Delta T = 0.02 $ seconds and thus one gains the discrete system matrix  \n",
    "\n",
    "$$\n",
    "    A_{d} = \\exp \\left( A \\Delta T \\right) = \n",
    "    \\begin{pmatrix}\n",
    "           \\exp\\left(-0.01\\right) & 0 \\\\\n",
    "            -\\frac{2}{3} \\left( \\exp\\left(-0.01\\right)- \\exp\\left(0.02\\right) \\right) & \\exp\\left(0.02\\right)\n",
    "    \\end{pmatrix} \\text{.}\n",
    "$$\n"
   ]
  },
  {
   "cell_type": "code",
   "execution_count": 3,
   "metadata": {},
   "outputs": [
    {
     "data": {
      "text/plain": [
       "2×2 Array{Float64,2}:\n",
       " 0.99005   0.0   \n",
       " 0.020101  1.0202"
      ]
     },
     "execution_count": 3,
     "metadata": {},
     "output_type": "execute_result"
    }
   ],
   "source": [
    "sys_dis_M(t) = [exp(-t/2) 0; -(2/3)*(exp(-(1/2)*t) - exp(t)) exp(t)]\n",
    "\n",
    "Ts = 0.02;          # Sampling time\n",
    "Ad = sys_dis_M(Ts)  # Discrete system matrix"
   ]
  },
  {
   "cell_type": "markdown",
   "metadata": {},
   "source": [
    "The discrete input vector is derived by integration as\n",
    "\n",
    "$$\n",
    "    B_{d} =  \\int\\limits_{t_{n}}^{t_{n+1}} \\exp \\left( A(t_{n+1} - \\tau) \\right) ~ B d\\tau\n",
    "    = -A^{-1} \n",
    "    \\left[\\exp \\left( A(t_{n+1} - \\tau \\right)\\right]_{\\tau = t_{n}}^{\\tau = t_{n+1}} B \\\\\n",
    "    = A^{-1} ~ \\left[  \\exp\\left( A (t_{n+1} - t_{n}) \\right) - I \\right] B = A^{-1} ~ \\left[  A_{d} - I \\right] B\n",
    "$$\n",
    "\n",
    "with $ \\Delta T = t_{n+1} - t_{n}$."
   ]
  },
  {
   "cell_type": "code",
   "execution_count": 4,
   "metadata": {},
   "outputs": [
    {
     "data": {
      "text/plain": [
       "2-element Array{Float64,1}:\n",
       " 0.009950166250831893\n",
       " 0.010201005855075218"
      ]
     },
     "execution_count": 4,
     "metadata": {},
     "output_type": "execute_result"
    }
   ],
   "source": [
    "Bd = inv(A) *( Ad - I) *B # Discrete input vector"
   ]
  },
  {
   "cell_type": "markdown",
   "metadata": {},
   "source": [
    "## Stability of the discrete system\n",
    "\n",
    "The Eigenvalues are found similar to the discrete system matrix $ A_{d} = \\exp(A \\Delta T) $ with \n",
    "\n",
    "$$\n",
    "\\lambda_{d} = \n",
    "\\begin{pmatrix}\n",
    "     \\exp \\left( \\lambda_{1} \\Delta T \\right) \\\\\n",
    "     \\exp \\left( \\lambda_{2} \\Delta T \\right)\n",
    "\\end{pmatrix}\n",
    "=\n",
    "\\begin{pmatrix}\n",
    "     \\exp \\left( -0.01 \\right) \\\\\n",
    "     \\exp \\left( 0.02 \\right)\n",
    "\\end{pmatrix} \n",
    "\\text{.}\n",
    "$$\n",
    "\n",
    "The second Eigenvalue is greater than one: $ \\lambda_{D,2} = e^{0.02} > 1 $ which implies the discrete system has an unstable behavior like the continuous system. Therefore, the system has to be stabilized via feedback. A common pole placement method for Single-Input-Single-Output (SISO) systems is called [Ackermann's formula](https://en.wikipedia.org/wiki/Ackermann%27s_formula)."
   ]
  },
  {
   "cell_type": "markdown",
   "metadata": {},
   "source": [
    "## Discrete Controller Design via Ackermann's formula\n",
    "\n",
    "The [characteristic polynomial](https://en.wikipedia.org/wiki/Characteristic_polynomial) for the desired poles $ \\lambda_{des} = \\frac{1}{2} (1 \\pm j) $ is\n",
    "\n",
    "$$\n",
    "p( \\lambda_{des} ) = \\left( \\lambda - \\lambda_{des,1} \\right) \\left( \\lambda - \\lambda_{des,2} \\right) = \\lambda_{des}^2 - \\lambda_{des} + \\frac{1}{2} \\text{.}\n",
    "$$\n",
    "\n",
    "The discrete system matrix $ A_{d} $ is inserted in the characteristic polynomial as \n",
    "\n",
    "$$\n",
    "    p( A_{d} ) =  A_{d}^2 -  A_{d} + \\frac{1}{2} I \\text{.}\n",
    "$$\n"
   ]
  },
  {
   "cell_type": "code",
   "execution_count": 5,
   "metadata": {},
   "outputs": [
    {
     "data": {
      "text/plain": [
       "2×2 Array{Float64,2}:\n",
       " 0.490149   0.0     \n",
       " 0.0203071  0.520609"
      ]
     },
     "execution_count": 5,
     "metadata": {},
     "output_type": "execute_result"
    }
   ],
   "source": [
    "pAd = Ad^2 - Ad + 0.5*I"
   ]
  },
  {
   "cell_type": "markdown",
   "metadata": {},
   "source": [
    "Next, the [controllability matrix](https://en.wikipedia.org/wiki/Controllability) is calculated with\n",
    "\n",
    "$$\n",
    "\\mathcal{C}(A_{d}, B_{d}) = \\left[ B_{d}, A_{d} B_{d} \\right] \\text{.}\n",
    "$$"
   ]
  },
  {
   "cell_type": "code",
   "execution_count": 6,
   "metadata": {},
   "outputs": [
    {
     "data": {
      "text/plain": [
       "2×2 Array{Float64,2}:\n",
       " 0.00995017  0.00985116\n",
       " 0.010201    0.0106071 "
      ]
     },
     "execution_count": 6,
     "metadata": {},
     "output_type": "execute_result"
    }
   ],
   "source": [
    "cntrb_mat =  hcat( [Bd, Ad*Bd] ...) # Controllability matrix"
   ]
  },
  {
   "cell_type": "markdown",
   "metadata": {},
   "source": [
    "It has to be proved whether the system in **controllable**. This is satisfied if the controllability matrix has full rank. Full rank can be checked if the columns are linear independent or the determinant is unequal zero. "
   ]
  },
  {
   "cell_type": "code",
   "execution_count": 7,
   "metadata": {},
   "outputs": [
    {
     "data": {
      "text/plain": [
       "5.050545440260236e-6"
      ]
     },
     "execution_count": 7,
     "metadata": {},
     "output_type": "execute_result"
    }
   ],
   "source": [
    "det(cntrb_mat) # Check the controllability"
   ]
  },
  {
   "cell_type": "markdown",
   "metadata": {},
   "source": [
    "Finally, the **feedback matrix** is computed as\n",
    "\n",
    "$$\n",
    "K_{d} = e_{N}^{\\top} ~ \\mathcal{C}^{-1} ~ p(A_{d}) \\quad \\text{with unit vector} \\quad e_{N} = \\left( 0, ... , 0, 1 \\right)^{\\top} \\text{.}\n",
    "$$\n",
    "\n"
   ]
  },
  {
   "cell_type": "code",
   "execution_count": 8,
   "metadata": {},
   "outputs": [
    {
     "data": {
      "text/plain": [
       "1×2 Adjoint{Float64,Array{Float64,1}}:\n",
       " -949.987  1025.66"
      ]
     },
     "execution_count": 8,
     "metadata": {},
     "output_type": "execute_result"
    }
   ],
   "source": [
    "eN = [0; 1] # Unit vector\n",
    "Kd =  eN' *  inv(cntrb_mat) * pAd # Feedback matrix"
   ]
  },
  {
   "cell_type": "markdown",
   "metadata": {},
   "source": [
    "The Eigenvalues of the closed-loop digital system are equal to the desired Eigenvalues."
   ]
  },
  {
   "cell_type": "code",
   "execution_count": 17,
   "metadata": {},
   "outputs": [
    {
     "data": {
      "text/plain": [
       "2-element Array{Complex{Float64},1}:\n",
       " 0.49999999999999845 - 0.49999999999999234im\n",
       " 0.49999999999999845 + 0.49999999999999234im"
      ]
     },
     "execution_count": 17,
     "metadata": {},
     "output_type": "execute_result"
    }
   ],
   "source": [
    "Acl = (Ad - Bd*Kd); # Closed-loop state matrix\n",
    "eigvals(Acl)"
   ]
  },
  {
   "cell_type": "markdown",
   "metadata": {},
   "source": [
    "## Simulation\n",
    "\n",
    "The closed-loop digital system is simulated with the initial value $ x_{0} = (2.0, 0.0)^{\\top}$ for $t_{final} = 1.0$ seconds."
   ]
  },
  {
   "cell_type": "code",
   "execution_count": 27,
   "metadata": {},
   "outputs": [
    {
     "data": {
      "image/svg+xml": [
       "<?xml version=\"1.0\" encoding=\"utf-8\"?>\n",
       "<svg xmlns=\"http://www.w3.org/2000/svg\" xmlns:xlink=\"http://www.w3.org/1999/xlink\" width=\"600\" height=\"400\" viewBox=\"0 0 2400 1600\">\n",
       "<defs>\n",
       "  <clipPath id=\"clip1100\">\n",
       "    <rect x=\"0\" y=\"0\" width=\"2400\" height=\"1600\"/>\n",
       "  </clipPath>\n",
       "</defs>\n",
       "<path clip-path=\"url(#clip1100)\" d=\"\n",
       "M0 1600 L2400 1600 L2400 0 L0 0  Z\n",
       "  \" fill=\"#ffffff\" fill-rule=\"evenodd\" fill-opacity=\"1\"/>\n",
       "<defs>\n",
       "  <clipPath id=\"clip1101\">\n",
       "    <rect x=\"480\" y=\"0\" width=\"1681\" height=\"1600\"/>\n",
       "  </clipPath>\n",
       "</defs>\n",
       "<path clip-path=\"url(#clip1100)\" d=\"\n",
       "M141.865 1487.47 L2352.76 1487.47 L2352.76 47.2441 L141.865 47.2441  Z\n",
       "  \" fill=\"#ffffff\" fill-rule=\"evenodd\" fill-opacity=\"1\"/>\n",
       "<defs>\n",
       "  <clipPath id=\"clip1102\">\n",
       "    <rect x=\"141\" y=\"47\" width=\"2212\" height=\"1441\"/>\n",
       "  </clipPath>\n",
       "</defs>\n",
       "<polyline clip-path=\"url(#clip1102)\" style=\"stroke:#000000; stroke-width:2; stroke-opacity:0.1; fill:none\" points=\"\n",
       "  204.437,1487.47 204.437,47.2441 \n",
       "  \"/>\n",
       "<polyline clip-path=\"url(#clip1102)\" style=\"stroke:#000000; stroke-width:2; stroke-opacity:0.1; fill:none\" points=\"\n",
       "  725.874,1487.47 725.874,47.2441 \n",
       "  \"/>\n",
       "<polyline clip-path=\"url(#clip1102)\" style=\"stroke:#000000; stroke-width:2; stroke-opacity:0.1; fill:none\" points=\"\n",
       "  1247.31,1487.47 1247.31,47.2441 \n",
       "  \"/>\n",
       "<polyline clip-path=\"url(#clip1102)\" style=\"stroke:#000000; stroke-width:2; stroke-opacity:0.1; fill:none\" points=\"\n",
       "  1768.75,1487.47 1768.75,47.2441 \n",
       "  \"/>\n",
       "<polyline clip-path=\"url(#clip1102)\" style=\"stroke:#000000; stroke-width:2; stroke-opacity:0.1; fill:none\" points=\"\n",
       "  2290.18,1487.47 2290.18,47.2441 \n",
       "  \"/>\n",
       "<polyline clip-path=\"url(#clip1102)\" style=\"stroke:#000000; stroke-width:2; stroke-opacity:0.1; fill:none\" points=\"\n",
       "  141.865,1435.2 2352.76,1435.2 \n",
       "  \"/>\n",
       "<polyline clip-path=\"url(#clip1102)\" style=\"stroke:#000000; stroke-width:2; stroke-opacity:0.1; fill:none\" points=\"\n",
       "  141.865,1174.97 2352.76,1174.97 \n",
       "  \"/>\n",
       "<polyline clip-path=\"url(#clip1102)\" style=\"stroke:#000000; stroke-width:2; stroke-opacity:0.1; fill:none\" points=\"\n",
       "  141.865,914.747 2352.76,914.747 \n",
       "  \"/>\n",
       "<polyline clip-path=\"url(#clip1102)\" style=\"stroke:#000000; stroke-width:2; stroke-opacity:0.1; fill:none\" points=\"\n",
       "  141.865,654.523 2352.76,654.523 \n",
       "  \"/>\n",
       "<polyline clip-path=\"url(#clip1102)\" style=\"stroke:#000000; stroke-width:2; stroke-opacity:0.1; fill:none\" points=\"\n",
       "  141.865,394.298 2352.76,394.298 \n",
       "  \"/>\n",
       "<polyline clip-path=\"url(#clip1102)\" style=\"stroke:#000000; stroke-width:2; stroke-opacity:0.1; fill:none\" points=\"\n",
       "  141.865,134.073 2352.76,134.073 \n",
       "  \"/>\n",
       "<polyline clip-path=\"url(#clip1100)\" style=\"stroke:#000000; stroke-width:4; stroke-opacity:1; fill:none\" points=\"\n",
       "  141.865,1487.47 2352.76,1487.47 \n",
       "  \"/>\n",
       "<polyline clip-path=\"url(#clip1100)\" style=\"stroke:#000000; stroke-width:4; stroke-opacity:1; fill:none\" points=\"\n",
       "  141.865,1487.47 141.865,47.2441 \n",
       "  \"/>\n",
       "<polyline clip-path=\"url(#clip1100)\" style=\"stroke:#000000; stroke-width:4; stroke-opacity:1; fill:none\" points=\"\n",
       "  204.437,1487.47 204.437,1470.19 \n",
       "  \"/>\n",
       "<polyline clip-path=\"url(#clip1100)\" style=\"stroke:#000000; stroke-width:4; stroke-opacity:1; fill:none\" points=\"\n",
       "  725.874,1487.47 725.874,1470.19 \n",
       "  \"/>\n",
       "<polyline clip-path=\"url(#clip1100)\" style=\"stroke:#000000; stroke-width:4; stroke-opacity:1; fill:none\" points=\"\n",
       "  1247.31,1487.47 1247.31,1470.19 \n",
       "  \"/>\n",
       "<polyline clip-path=\"url(#clip1100)\" style=\"stroke:#000000; stroke-width:4; stroke-opacity:1; fill:none\" points=\"\n",
       "  1768.75,1487.47 1768.75,1470.19 \n",
       "  \"/>\n",
       "<polyline clip-path=\"url(#clip1100)\" style=\"stroke:#000000; stroke-width:4; stroke-opacity:1; fill:none\" points=\"\n",
       "  2290.18,1487.47 2290.18,1470.19 \n",
       "  \"/>\n",
       "<polyline clip-path=\"url(#clip1100)\" style=\"stroke:#000000; stroke-width:4; stroke-opacity:1; fill:none\" points=\"\n",
       "  141.865,1435.2 168.395,1435.2 \n",
       "  \"/>\n",
       "<polyline clip-path=\"url(#clip1100)\" style=\"stroke:#000000; stroke-width:4; stroke-opacity:1; fill:none\" points=\"\n",
       "  141.865,1174.97 168.395,1174.97 \n",
       "  \"/>\n",
       "<polyline clip-path=\"url(#clip1100)\" style=\"stroke:#000000; stroke-width:4; stroke-opacity:1; fill:none\" points=\"\n",
       "  141.865,914.747 168.395,914.747 \n",
       "  \"/>\n",
       "<polyline clip-path=\"url(#clip1100)\" style=\"stroke:#000000; stroke-width:4; stroke-opacity:1; fill:none\" points=\"\n",
       "  141.865,654.523 168.395,654.523 \n",
       "  \"/>\n",
       "<polyline clip-path=\"url(#clip1100)\" style=\"stroke:#000000; stroke-width:4; stroke-opacity:1; fill:none\" points=\"\n",
       "  141.865,394.298 168.395,394.298 \n",
       "  \"/>\n",
       "<polyline clip-path=\"url(#clip1100)\" style=\"stroke:#000000; stroke-width:4; stroke-opacity:1; fill:none\" points=\"\n",
       "  141.865,134.073 168.395,134.073 \n",
       "  \"/>\n",
       "<g clip-path=\"url(#clip1100)\">\n",
       "<text style=\"fill:#000000; fill-opacity:1; font-family:Arial,Helvetica Neue,Helvetica,sans-serif; font-size:48px; text-anchor:middle;\" transform=\"rotate(0, 204.437, 1541.47)\" x=\"204.437\" y=\"1541.47\">0.00</text>\n",
       "</g>\n",
       "<g clip-path=\"url(#clip1100)\">\n",
       "<text style=\"fill:#000000; fill-opacity:1; font-family:Arial,Helvetica Neue,Helvetica,sans-serif; font-size:48px; text-anchor:middle;\" transform=\"rotate(0, 725.874, 1541.47)\" x=\"725.874\" y=\"1541.47\">0.25</text>\n",
       "</g>\n",
       "<g clip-path=\"url(#clip1100)\">\n",
       "<text style=\"fill:#000000; fill-opacity:1; font-family:Arial,Helvetica Neue,Helvetica,sans-serif; font-size:48px; text-anchor:middle;\" transform=\"rotate(0, 1247.31, 1541.47)\" x=\"1247.31\" y=\"1541.47\">0.50</text>\n",
       "</g>\n",
       "<g clip-path=\"url(#clip1100)\">\n",
       "<text style=\"fill:#000000; fill-opacity:1; font-family:Arial,Helvetica Neue,Helvetica,sans-serif; font-size:48px; text-anchor:middle;\" transform=\"rotate(0, 1768.75, 1541.47)\" x=\"1768.75\" y=\"1541.47\">0.75</text>\n",
       "</g>\n",
       "<g clip-path=\"url(#clip1100)\">\n",
       "<text style=\"fill:#000000; fill-opacity:1; font-family:Arial,Helvetica Neue,Helvetica,sans-serif; font-size:48px; text-anchor:middle;\" transform=\"rotate(0, 2290.18, 1541.47)\" x=\"2290.18\" y=\"1541.47\">1.00</text>\n",
       "</g>\n",
       "<g clip-path=\"url(#clip1100)\">\n",
       "<text style=\"fill:#000000; fill-opacity:1; font-family:Arial,Helvetica Neue,Helvetica,sans-serif; font-size:48px; text-anchor:end;\" transform=\"rotate(0, 117.865, 1452.7)\" x=\"117.865\" y=\"1452.7\">-5</text>\n",
       "</g>\n",
       "<g clip-path=\"url(#clip1100)\">\n",
       "<text style=\"fill:#000000; fill-opacity:1; font-family:Arial,Helvetica Neue,Helvetica,sans-serif; font-size:48px; text-anchor:end;\" transform=\"rotate(0, 117.865, 1192.47)\" x=\"117.865\" y=\"1192.47\">0</text>\n",
       "</g>\n",
       "<g clip-path=\"url(#clip1100)\">\n",
       "<text style=\"fill:#000000; fill-opacity:1; font-family:Arial,Helvetica Neue,Helvetica,sans-serif; font-size:48px; text-anchor:end;\" transform=\"rotate(0, 117.865, 932.247)\" x=\"117.865\" y=\"932.247\">5</text>\n",
       "</g>\n",
       "<g clip-path=\"url(#clip1100)\">\n",
       "<text style=\"fill:#000000; fill-opacity:1; font-family:Arial,Helvetica Neue,Helvetica,sans-serif; font-size:48px; text-anchor:end;\" transform=\"rotate(0, 117.865, 672.023)\" x=\"117.865\" y=\"672.023\">10</text>\n",
       "</g>\n",
       "<g clip-path=\"url(#clip1100)\">\n",
       "<text style=\"fill:#000000; fill-opacity:1; font-family:Arial,Helvetica Neue,Helvetica,sans-serif; font-size:48px; text-anchor:end;\" transform=\"rotate(0, 117.865, 411.798)\" x=\"117.865\" y=\"411.798\">15</text>\n",
       "</g>\n",
       "<g clip-path=\"url(#clip1100)\">\n",
       "<text style=\"fill:#000000; fill-opacity:1; font-family:Arial,Helvetica Neue,Helvetica,sans-serif; font-size:48px; text-anchor:end;\" transform=\"rotate(0, 117.865, 151.573)\" x=\"117.865\" y=\"151.573\">20</text>\n",
       "</g>\n",
       "<polyline clip-path=\"url(#clip1102)\" style=\"stroke:#009af9; stroke-width:4; stroke-opacity:1; fill:none\" points=\"\n",
       "  204.437,1070.88 246.152,88.0053 287.867,140.05 329.582,683.534 371.297,1200.99 413.012,1446.71 454.727,1433.7 496.441,1297.83 538.156,1168.47 579.871,1107.04 \n",
       "  621.586,1110.29 663.301,1144.26 705.016,1176.6 746.731,1191.96 788.446,1191.14 830.161,1182.65 871.876,1174.57 913.591,1170.73 955.306,1170.93 997.021,1173.05 \n",
       "  1038.74,1175.07 1080.45,1176.03 1122.17,1175.98 1163.88,1175.45 1205.6,1174.95 1247.31,1174.71 1289.03,1174.72 1330.74,1174.85 1372.46,1174.98 1414.17,1175.04 \n",
       "  1455.88,1175.04 1497.6,1175 1539.31,1174.97 1581.03,1174.96 1622.74,1174.96 1664.46,1174.96 1706.17,1174.97 1747.89,1174.98 1789.6,1174.98 1831.32,1174.97 \n",
       "  1873.03,1174.97 1914.75,1174.97 1956.46,1174.97 1998.18,1174.97 2039.89,1174.97 2081.61,1174.97 2123.32,1174.97 2165.04,1174.97 2206.75,1174.97 2248.47,1174.97 \n",
       "  2290.18,1174.97 \n",
       "  \"/>\n",
       "<polyline clip-path=\"url(#clip1102)\" style=\"stroke:#e26f46; stroke-width:4; stroke-opacity:1; fill:none\" points=\"\n",
       "  204.437,1174.97 246.152,164.163 287.867,164.163 329.582,669.568 371.297,1174.97 413.012,1427.67 454.727,1427.67 496.441,1301.32 538.156,1174.97 579.871,1111.8 \n",
       "  621.586,1111.8 663.301,1143.38 705.016,1174.97 746.731,1190.77 788.446,1190.77 830.161,1182.87 871.876,1174.97 913.591,1171.02 955.306,1171.02 997.021,1173 \n",
       "  1038.74,1174.97 1080.45,1175.96 1122.17,1175.96 1163.88,1175.47 1205.6,1174.97 1247.31,1174.73 1289.03,1174.73 1330.74,1174.85 1372.46,1174.97 1414.17,1175.03 \n",
       "  1455.88,1175.03 1497.6,1175 1539.31,1174.97 1581.03,1174.96 1622.74,1174.96 1664.46,1174.96 1706.17,1174.97 1747.89,1174.98 1789.6,1174.98 1831.32,1174.97 \n",
       "  1873.03,1174.97 1914.75,1174.97 1956.46,1174.97 1998.18,1174.97 2039.89,1174.97 2081.61,1174.97 2123.32,1174.97 2165.04,1174.97 2206.75,1174.97 2248.47,1174.97 \n",
       "  2290.18,1174.97 \n",
       "  \"/>\n",
       "<path clip-path=\"url(#clip1100)\" d=\"\n",
       "M1989.93 312.204 L2280.76 312.204 L2280.76 130.764 L1989.93 130.764  Z\n",
       "  \" fill=\"#ffffff\" fill-rule=\"evenodd\" fill-opacity=\"1\"/>\n",
       "<polyline clip-path=\"url(#clip1100)\" style=\"stroke:#000000; stroke-width:4; stroke-opacity:1; fill:none\" points=\"\n",
       "  1989.93,312.204 2280.76,312.204 2280.76,130.764 1989.93,130.764 1989.93,312.204 \n",
       "  \"/>\n",
       "<polyline clip-path=\"url(#clip1100)\" style=\"stroke:#009af9; stroke-width:4; stroke-opacity:1; fill:none\" points=\"\n",
       "  2013.93,191.244 2157.93,191.244 \n",
       "  \"/>\n",
       "<g clip-path=\"url(#clip1100)\">\n",
       "<text style=\"fill:#000000; fill-opacity:1; font-family:Arial,Helvetica Neue,Helvetica,sans-serif; font-size:48px; text-anchor:start;\" transform=\"rotate(0, 2181.93, 208.744)\" x=\"2181.93\" y=\"208.744\">x1</text>\n",
       "</g>\n",
       "<polyline clip-path=\"url(#clip1100)\" style=\"stroke:#e26f46; stroke-width:4; stroke-opacity:1; fill:none\" points=\"\n",
       "  2013.93,251.724 2157.93,251.724 \n",
       "  \"/>\n",
       "<g clip-path=\"url(#clip1100)\">\n",
       "<text style=\"fill:#000000; fill-opacity:1; font-family:Arial,Helvetica Neue,Helvetica,sans-serif; font-size:48px; text-anchor:start;\" transform=\"rotate(0, 2181.93, 269.224)\" x=\"2181.93\" y=\"269.224\">x2</text>\n",
       "</g>\n",
       "</svg>\n"
      ]
     },
     "execution_count": 27,
     "metadata": {},
     "output_type": "execute_result"
    }
   ],
   "source": [
    "sys_cl(x, p, t) = Acl * x; # Closed-loop dynamical system\n",
    "x0 = [2.0 ; 0.0]; # Initial values\n",
    "Tfinal = 1.0; # Final time\n",
    "tspan = 0:Ts:Tfinal; # Time range\n",
    "\n",
    "x_sol = zeros(2, length(tspan));\n",
    "x_sol[:,1] = x0;\n",
    "\n",
    "for i=1 : length(tspan)-1\n",
    "    x_sol[:,i+1] = Acl*x_sol[:,i]\n",
    "end\n",
    "\n",
    "using Plots\n",
    "plot(tspan, x_sol[1,:], label=\"x1\")\n",
    "plot!(tspan, x_sol[2,:], label=\"x2\")\n"
   ]
  }
 ],
 "metadata": {
  "@webio": {
   "lastCommId": null,
   "lastKernelId": null
  },
  "kernelspec": {
   "display_name": "Julia 1.3.1",
   "language": "julia",
   "name": "julia-1.3"
  },
  "language_info": {
   "file_extension": ".jl",
   "mimetype": "application/julia",
   "name": "julia",
   "version": "1.3.1"
  }
 },
 "nbformat": 4,
 "nbformat_minor": 2
}
